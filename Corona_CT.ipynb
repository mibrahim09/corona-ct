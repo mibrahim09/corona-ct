{
  "nbformat": 4,
  "nbformat_minor": 0,
  "metadata": {
    "accelerator": "GPU",
    "colab": {
      "name": "Corona CT.ipynb",
      "provenance": [],
      "collapsed_sections": [
        "UXjqQM8tQW_W",
        "qHPeeiDM0zX0",
        "nMrri09t2G7Z",
        "iZj4FDIO8_z8",
        "6i5Gv-BO8pLA"
      ],
      "include_colab_link": true
    },
    "kernelspec": {
      "display_name": "Python 3",
      "name": "python3"
    },
    "widgets": {
      "application/vnd.jupyter.widget-state+json": {
        "ab092e5e32674eeaafc1f44bb08128aa": {
          "model_module": "@jupyter-widgets/controls",
          "model_name": "HBoxModel",
          "state": {
            "_view_name": "HBoxView",
            "_dom_classes": [],
            "_model_name": "HBoxModel",
            "_view_module": "@jupyter-widgets/controls",
            "_model_module_version": "1.5.0",
            "_view_count": null,
            "_view_module_version": "1.5.0",
            "box_style": "",
            "layout": "IPY_MODEL_0b27574cc0f24d0387f26fa97981f6a1",
            "_model_module": "@jupyter-widgets/controls",
            "children": [
              "IPY_MODEL_9cc3b4f01bc84ea0978327e4f380b740",
              "IPY_MODEL_fe183de49589449eb51317f3c828f783"
            ]
          }
        },
        "0b27574cc0f24d0387f26fa97981f6a1": {
          "model_module": "@jupyter-widgets/base",
          "model_name": "LayoutModel",
          "state": {
            "_view_name": "LayoutView",
            "grid_template_rows": null,
            "right": null,
            "justify_content": null,
            "_view_module": "@jupyter-widgets/base",
            "overflow": null,
            "_model_module_version": "1.2.0",
            "_view_count": null,
            "flex_flow": null,
            "width": null,
            "min_width": null,
            "border": null,
            "align_items": null,
            "bottom": null,
            "_model_module": "@jupyter-widgets/base",
            "top": null,
            "grid_column": null,
            "overflow_y": null,
            "overflow_x": null,
            "grid_auto_flow": null,
            "grid_area": null,
            "grid_template_columns": null,
            "flex": null,
            "_model_name": "LayoutModel",
            "justify_items": null,
            "grid_row": null,
            "max_height": null,
            "align_content": null,
            "visibility": null,
            "align_self": null,
            "height": null,
            "min_height": null,
            "padding": null,
            "grid_auto_rows": null,
            "grid_gap": null,
            "max_width": null,
            "order": null,
            "_view_module_version": "1.2.0",
            "grid_template_areas": null,
            "object_position": null,
            "object_fit": null,
            "grid_auto_columns": null,
            "margin": null,
            "display": null,
            "left": null
          }
        },
        "9cc3b4f01bc84ea0978327e4f380b740": {
          "model_module": "@jupyter-widgets/controls",
          "model_name": "FloatProgressModel",
          "state": {
            "_view_name": "ProgressView",
            "style": "IPY_MODEL_ad1cc4ccdc8b4cc69f4b26cc96a77d40",
            "_dom_classes": [],
            "description": "100%",
            "_model_name": "FloatProgressModel",
            "bar_style": "success",
            "max": 46827520,
            "_view_module": "@jupyter-widgets/controls",
            "_model_module_version": "1.5.0",
            "value": 46827520,
            "_view_count": null,
            "_view_module_version": "1.5.0",
            "orientation": "horizontal",
            "min": 0,
            "description_tooltip": null,
            "_model_module": "@jupyter-widgets/controls",
            "layout": "IPY_MODEL_6731d9968bd344a998086a8f220bd03a"
          }
        },
        "fe183de49589449eb51317f3c828f783": {
          "model_module": "@jupyter-widgets/controls",
          "model_name": "HTMLModel",
          "state": {
            "_view_name": "HTMLView",
            "style": "IPY_MODEL_34b6b08a636249638ef5dd09483cb535",
            "_dom_classes": [],
            "description": "",
            "_model_name": "HTMLModel",
            "placeholder": "​",
            "_view_module": "@jupyter-widgets/controls",
            "_model_module_version": "1.5.0",
            "value": " 44.7M/44.7M [00:00&lt;00:00, 88.9MB/s]",
            "_view_count": null,
            "_view_module_version": "1.5.0",
            "description_tooltip": null,
            "_model_module": "@jupyter-widgets/controls",
            "layout": "IPY_MODEL_01b20163082b446b814b39459fbdab94"
          }
        },
        "ad1cc4ccdc8b4cc69f4b26cc96a77d40": {
          "model_module": "@jupyter-widgets/controls",
          "model_name": "ProgressStyleModel",
          "state": {
            "_view_name": "StyleView",
            "_model_name": "ProgressStyleModel",
            "description_width": "initial",
            "_view_module": "@jupyter-widgets/base",
            "_model_module_version": "1.5.0",
            "_view_count": null,
            "_view_module_version": "1.2.0",
            "bar_color": null,
            "_model_module": "@jupyter-widgets/controls"
          }
        },
        "6731d9968bd344a998086a8f220bd03a": {
          "model_module": "@jupyter-widgets/base",
          "model_name": "LayoutModel",
          "state": {
            "_view_name": "LayoutView",
            "grid_template_rows": null,
            "right": null,
            "justify_content": null,
            "_view_module": "@jupyter-widgets/base",
            "overflow": null,
            "_model_module_version": "1.2.0",
            "_view_count": null,
            "flex_flow": null,
            "width": null,
            "min_width": null,
            "border": null,
            "align_items": null,
            "bottom": null,
            "_model_module": "@jupyter-widgets/base",
            "top": null,
            "grid_column": null,
            "overflow_y": null,
            "overflow_x": null,
            "grid_auto_flow": null,
            "grid_area": null,
            "grid_template_columns": null,
            "flex": null,
            "_model_name": "LayoutModel",
            "justify_items": null,
            "grid_row": null,
            "max_height": null,
            "align_content": null,
            "visibility": null,
            "align_self": null,
            "height": null,
            "min_height": null,
            "padding": null,
            "grid_auto_rows": null,
            "grid_gap": null,
            "max_width": null,
            "order": null,
            "_view_module_version": "1.2.0",
            "grid_template_areas": null,
            "object_position": null,
            "object_fit": null,
            "grid_auto_columns": null,
            "margin": null,
            "display": null,
            "left": null
          }
        },
        "34b6b08a636249638ef5dd09483cb535": {
          "model_module": "@jupyter-widgets/controls",
          "model_name": "DescriptionStyleModel",
          "state": {
            "_view_name": "StyleView",
            "_model_name": "DescriptionStyleModel",
            "description_width": "",
            "_view_module": "@jupyter-widgets/base",
            "_model_module_version": "1.5.0",
            "_view_count": null,
            "_view_module_version": "1.2.0",
            "_model_module": "@jupyter-widgets/controls"
          }
        },
        "01b20163082b446b814b39459fbdab94": {
          "model_module": "@jupyter-widgets/base",
          "model_name": "LayoutModel",
          "state": {
            "_view_name": "LayoutView",
            "grid_template_rows": null,
            "right": null,
            "justify_content": null,
            "_view_module": "@jupyter-widgets/base",
            "overflow": null,
            "_model_module_version": "1.2.0",
            "_view_count": null,
            "flex_flow": null,
            "width": null,
            "min_width": null,
            "border": null,
            "align_items": null,
            "bottom": null,
            "_model_module": "@jupyter-widgets/base",
            "top": null,
            "grid_column": null,
            "overflow_y": null,
            "overflow_x": null,
            "grid_auto_flow": null,
            "grid_area": null,
            "grid_template_columns": null,
            "flex": null,
            "_model_name": "LayoutModel",
            "justify_items": null,
            "grid_row": null,
            "max_height": null,
            "align_content": null,
            "visibility": null,
            "align_self": null,
            "height": null,
            "min_height": null,
            "padding": null,
            "grid_auto_rows": null,
            "grid_gap": null,
            "max_width": null,
            "order": null,
            "_view_module_version": "1.2.0",
            "grid_template_areas": null,
            "object_position": null,
            "object_fit": null,
            "grid_auto_columns": null,
            "margin": null,
            "display": null,
            "left": null
          }
        }
      }
    }
  },
  "cells": [
    {
      "cell_type": "markdown",
      "metadata": {
        "id": "view-in-github",
        "colab_type": "text"
      },
      "source": [
        "<a href=\"https://colab.research.google.com/github/mibrahim09/corona-ct/blob/master/Corona_CT.ipynb\" target=\"_parent\"><img src=\"https://colab.research.google.com/assets/colab-badge.svg\" alt=\"Open In Colab\"/></a>"
      ]
    },
    {
      "cell_type": "markdown",
      "metadata": {
        "id": "RX446KUfHw8M"
      },
      "source": [
        "# Preparing Data"
      ]
    },
    {
      "cell_type": "markdown",
      "metadata": {
        "id": "9PVsnpbIHmLt"
      },
      "source": [
        "Imports"
      ]
    },
    {
      "cell_type": "code",
      "metadata": {
        "id": "7WNciW_SHfCB"
      },
      "source": [
        "import os\n",
        "import shutil\n",
        "import random\n",
        "import torch\n",
        "import torchvision\n",
        "import numpy as np\n",
        "from PIL import Image\n",
        "from matplotlib import pyplot as plt"
      ],
      "execution_count": null,
      "outputs": []
    },
    {
      "cell_type": "markdown",
      "metadata": {
        "id": "bCZwXS7OIqA7"
      },
      "source": [
        "Pytorch Transforms"
      ]
    },
    {
      "cell_type": "code",
      "metadata": {
        "id": "_bMiwWPzIr8L"
      },
      "source": [
        "Training_Transform = torchvision.transforms.Compose([\n",
        "    torchvision.transforms.Resize(size=(256,256)),\n",
        "    torchvision.transforms.Grayscale(num_output_channels=1), \n",
        "    torchvision.transforms.RandomHorizontalFlip(),\n",
        "    torchvision.transforms.ToTensor(),\n",
        "    torchvision.transforms.Normalize(mean=[0.485], std=[0.229])\n",
        "])\n",
        "Test_Transform = torchvision.transforms.Compose([\n",
        "    torchvision.transforms.Resize(size=(256,256)),\n",
        "    torchvision.transforms.Grayscale(num_output_channels=1), \n",
        "    torchvision.transforms.ToTensor(),\n",
        "    torchvision.transforms.Normalize(mean=[0.485, 0.456, 0.406], std=[0.229,0.224,0.225])\n",
        "])\n",
        "\n",
        "class CoronaDataset(torch.utils.data.Dataset):\n",
        "      def __init__(self, image_dirs,transform):\n",
        "                def get_images(class_name):\n",
        "                  images = [x for x in os.listdir(image_dirs[class_name]) if x.lower().endswith('png')]\n",
        "                  return images\n",
        "                self.images={}\n",
        "                self.class_names=['Normal','Viral','COVID']\n",
        "                for c in self.class_names:\n",
        "                    self.images[c]=get_images(c)\n",
        "                self.image_dirs=image_dirs\n",
        "                self.transform=transform\n",
        "      def __len__(self):\n",
        "                return sum([len(self.images[c]) for c in self.class_names])\n",
        "      def __getitem__(self, index):\n",
        "                class_name=random.choice(self.class_names)\n",
        "                index=index%len(self.images[class_name])\n",
        "                image_name=self.images[class_name][index]\n",
        "                image_path =os.path.join(self.image_dirs[class_name], image_name)\n",
        "                image=Image.open(image_path).convert('RGB')\n",
        "                return self.transform(image), self.class_names.index(class_name)"
      ],
      "execution_count": null,
      "outputs": []
    },
    {
      "cell_type": "markdown",
      "metadata": {
        "id": "dFxkFDDpIIh1"
      },
      "source": [
        "Loading Images"
      ]
    },
    {
      "cell_type": "code",
      "metadata": {
        "colab": {
          "base_uri": "https://localhost:8080/"
        },
        "id": "LQ4F6k0P-2q4",
        "outputId": "cc08f6c8-bace-4b22-884d-8bc4e88b6d23"
      },
      "source": [
        "from google.colab import drive\n",
        "drive.mount('/content/drive')"
      ],
      "execution_count": null,
      "outputs": [
        {
          "output_type": "stream",
          "text": [
            "Mounted at /content/drive\n"
          ],
          "name": "stdout"
        }
      ]
    },
    {
      "cell_type": "code",
      "metadata": {
        "id": "_GyktKwtINJd"
      },
      "source": [
        "Files_Directory = {\n",
        "    'Normal': '/content/drive/MyDrive/COVID/NORMAL',\n",
        "    'Viral': '/content/drive/MyDrive/COVID/Viral Pneumonia',\n",
        "    'COVID': '/content/drive/MyDrive/COVID/COVID'\n",
        "}\n",
        "dataset=CoronaDataset(Files_Directory, Training_Transform)"
      ],
      "execution_count": null,
      "outputs": []
    },
    {
      "cell_type": "markdown",
      "metadata": {
        "id": "4WA9sEYhM9Ej"
      },
      "source": [
        "Split for training and validation"
      ]
    },
    {
      "cell_type": "code",
      "metadata": {
        "colab": {
          "base_uri": "https://localhost:8080/"
        },
        "id": "cjlo6uTYM7Vi",
        "outputId": "9c8d9cc8-07b5-4404-a8de-90c04b6724e0"
      },
      "source": [
        "from torch.utils.data.sampler import SubsetRandomSampler\n",
        "\n",
        "batch_size = 20\n",
        "#validation_split = .2\n",
        "\n",
        "test_train_split=0.8\n",
        "val_train_split=0.1\n",
        "\n",
        "dataset_size = len(dataset)\n",
        "indices = list(range(dataset_size))\n",
        "\n",
        "\n",
        "#split = int(np.floor(validation_split * dataset_size))\n",
        "test_split = int(np.floor(test_train_split * dataset_size))\n",
        "np.random.seed(42)\n",
        "np.random.shuffle(indices)\n",
        "\n",
        "#train_indices, val_indices = indices[split:], indices[:split]\n",
        "train_indices, test_indices = indices[:test_split], indices[test_split:]\n",
        "train_size = len(train_indices)\n",
        "validation_split = int(np.floor((1 - val_train_split) * train_size))\n",
        "train_indices, val_indices = train_indices[ : validation_split], train_indices[validation_split:]\n",
        "\n",
        "train_sampler = SubsetRandomSampler(train_indices)\n",
        "valid_sampler = SubsetRandomSampler(val_indices)\n",
        "test_sampler = SubsetRandomSampler(test_indices)\n",
        "\n",
        "train_loader = torch.utils.data.DataLoader(dataset, batch_size=batch_size, \n",
        "                                           sampler=train_sampler)\n",
        "validation_loader = torch.utils.data.DataLoader(dataset, batch_size=batch_size,\n",
        "                                                sampler=valid_sampler)\n",
        "test_loader = torch.utils.data.DataLoader(dataset, batch_size=batch_size,\n",
        "                                                sampler=test_sampler)\n",
        "print('LOADING DONE!')\n",
        "print('Training len: ' + str(len(train_loader)))\n",
        "print('Validation len: ' + str(len(validation_loader)))\n",
        "print('Testing len: ' + str(len(test_loader)))"
      ],
      "execution_count": null,
      "outputs": [
        {
          "output_type": "stream",
          "text": [
            "LOADING DONE!\n",
            "Training len: 140\n",
            "Validation len: 16\n",
            "Testing len: 39\n"
          ],
          "name": "stdout"
        }
      ]
    },
    {
      "cell_type": "markdown",
      "metadata": {
        "id": "701i8OptZoYj"
      },
      "source": [
        "Showing some images"
      ]
    },
    {
      "cell_type": "code",
      "metadata": {
        "colab": {
          "base_uri": "https://localhost:8080/",
          "height": 411
        },
        "id": "hE8PUEX9ZqC3",
        "outputId": "08b84abd-3de7-4f5c-c3ff-c7a50b0630c8"
      },
      "source": [
        "Classes=['Normal','Viral','COVID']\n",
        "imgs, labels = next(iter(train_loader))\n",
        "fig=plt.figure(figsize=(8, 8))\n",
        "columns = batch_size / 4\n",
        "rows = 5\n",
        "i = 0\n",
        "for img in imgs:\n",
        "    myLabel = labels[i]\n",
        "    i = i+1\n",
        "    fig.add_subplot(rows, columns, i)\n",
        "    img=img.numpy().transpose((1,2,0))\n",
        "    mean=np.array([0.485,0.456,0.406])\n",
        "    std= np.array([0.229, 0.224, 0.225])\n",
        "    img=img*std/mean\n",
        "    img=np.clip(img,0.,1.)\n",
        "    plt.imshow(img)\n",
        "    plt.xlabel(Classes[myLabel])\n",
        "plt.show()\n",
        "\n",
        "# device = torch.device('cuda' if torch.cuda.is_available() else 'cpu')\n",
        "device = torch.device('cpu')"
      ],
      "execution_count": null,
      "outputs": [
        {
          "output_type": "display_data",
          "data": {
            "image/png": "[encoded data removed]",
            "text/plain": [
              "<Figure size 576x576 with 20 Axes>"
            ]
          },
          "metadata": {
            "tags": [],
            "needs_background": "light"
          }
        }
      ]
    },
    {
      "cell_type": "markdown",
      "metadata": {
        "id": "UXjqQM8tQW_W"
      },
      "source": [
        "# ***Fully Connected***\n",
        "\n",
        "**Neural Network Implementation**\n"
      ]
    },
    {
      "cell_type": "code",
      "metadata": {
        "id": "BRkUWwKyvdPE"
      },
      "source": [
        "from torch import nn\n",
        "from sklearn.metrics import accuracy_score\n",
        "from sklearn.metrics import f1_score\n",
        "\n",
        "def train_model(model,train_loader,validation_loader,test_loader):\n",
        "  num_epochs = 5\n",
        "  learning_rate = 0.0001\n",
        "\n",
        "  # Loss and optimizer\n",
        "  criterion = nn.CrossEntropyLoss()\n",
        "  optimizer = torch.optim.Adam(model.parameters(), lr=learning_rate)\n",
        "  schedular = torch.optim.lr_scheduler.ReduceLROnPlateau(optimizer, factor=0.3, patience=5, threshold=1e-4)\n",
        "\n",
        "  # Train the model\n",
        "  total_step = len(train_loader)\n",
        "  correct = 0\n",
        "  total = 0\n",
        "  for epoch in range(num_epochs):\n",
        "      epoch_loss = 0\n",
        "      epoch_acc = 0\n",
        "      for i, (images, labels) in enumerate(train_loader):  \n",
        "          # Move tensors to the configured device\n",
        "          images = images.view(-1, 256*256).to(device) #### THIS LINE (1,256,256) = > (256,256)\n",
        "          labels = labels.to(device)\n",
        "        \n",
        "          # Forward pass\n",
        "          optimizer.zero_grad()\n",
        "          outputs = model(images)\n",
        "          loss = criterion(outputs, labels)\n",
        "          epoch_loss += loss.item()\n",
        "\n",
        "          # Backprpagation and optimization  \n",
        "          loss.backward()\n",
        "          optimizer.step()\n",
        "\n",
        "          _, predicted = torch.max(outputs.data, 1)\n",
        "          total += labels.size(0)\n",
        "          correct += (predicted == labels).sum().item()\n",
        "\n",
        "          correct_results_sum = (predicted == labels).sum().float()\n",
        "          acc = correct_results_sum/labels.shape[0]\n",
        "          acc = torch.round(acc * 100)\n",
        "          \n",
        "          epoch_acc += acc.item()\n",
        "\n",
        "          f1score = f1_score(labels, predicted, average='micro')\n",
        "          \n",
        "      print ('Epoch [{}/{}], Loss: {:.4f}, Acc: {:.4f}' \n",
        "            .format(epoch+1, num_epochs,epoch_loss/total_step, epoch_acc/total_step))\n",
        "                      \n",
        "  print(f'Accuracy (Training) : {format(100 * correct / total)}% ---> F1 score: {round(f1score, 4)}')\n",
        "\n",
        "  # Test the model\n",
        "  # In the test phase, don't need to compute gradients (for memory efficiency)\n",
        "  with torch.no_grad():\n",
        "      correct1 = 0\n",
        "      total1 = 0\n",
        "      correct2 = 0\n",
        "      total2 = 0\n",
        "      for images1, labels1 in validation_loader:\n",
        "          images1 = images1.reshape(-1, 256*256).to(device)\n",
        "          labels1 = labels1.to(device)\n",
        "          outputs1 = model(images1)\n",
        "          _, predicted1 = torch.max(outputs1.data, 1)\n",
        "          total1 += labels1.size(0)\n",
        "          correct1 += (predicted1 == labels1).sum().item()\n",
        "          f1score1 = f1_score(labels1, predicted1, average='micro')\n",
        "\n",
        "      print(f'Accuracy (Validation) : {format(100 * correct1 / total1)}% ---> F1 score: {round(f1score1, 4)}')\n",
        "      \n",
        "      for images2, labels2 in test_loader:\n",
        "          images2 = images2.reshape(-1, 256*256).to(device)\n",
        "          labels2 = labels2.to(device)\n",
        "          outputs2 = model(images2)\n",
        "          _, predicted2 = torch.max(outputs2.data, 1)\n",
        "          total2 += labels2.size(0)\n",
        "          correct2 += (predicted2 == labels2).sum().item()\n",
        "          f1score2 = f1_score(labels2, predicted2, average='micro')\n",
        "\n",
        "      print(f'Accuracy (Testing) : {format(100 * correct2 / total2)}% ---> F1 score: {round(f1score2, 4)}')\n"
      ],
      "execution_count": null,
      "outputs": []
    },
    {
      "cell_type": "markdown",
      "metadata": {
        "id": "qHPeeiDM0zX0"
      },
      "source": [
        "# ***`1.Many Layers`***\n"
      ]
    },
    {
      "cell_type": "code",
      "metadata": {
        "id": "4Vpx-tMxmySb"
      },
      "source": [
        "from torch import nn\n",
        "import torch.nn.functional as F\n",
        "\n",
        "class NeuralNet(nn.Module):\n",
        "    def __init__(self, input_size, hidden_size, num_classes):\n",
        "        super(NeuralNet, self).__init__()\n",
        "        self.fc1 = nn.Linear(input_size, hidden_size) \n",
        "        self.fc2 = nn.Linear(hidden_size, hidden_size)\n",
        "        self.fc3 = nn.Linear(hidden_size, hidden_size)\n",
        "        self.fc4 = nn.Linear(hidden_size, hidden_size) \n",
        "        self.fc5 = nn.Linear(hidden_size, hidden_size) \n",
        "        self.fc6 = nn.Linear(hidden_size, num_classes)  \n",
        "\n",
        "    def forward(self, x):\n",
        "        x = F.relu(self.fc1(x))\n",
        "        x = F.relu(self.fc2(x))\n",
        "        x = F.relu(self.fc3(x))\n",
        "        x = F.relu(self.fc4(x))\n",
        "        x = F.relu(self.fc5(x))\n",
        "        x = self.fc6(x)\n",
        "        return F.log_softmax(x, dim=1)"
      ],
      "execution_count": null,
      "outputs": []
    },
    {
      "cell_type": "code",
      "metadata": {
        "colab": {
          "base_uri": "https://localhost:8080/"
        },
        "id": "lceJ7gG1QfLz",
        "outputId": "6cb8482e-09ff-47be-cb6a-ad2d0ee3bf0f"
      },
      "source": [
        "input_size = 256*256\n",
        "hidden_size = 256\n",
        "num_classes = 10\n",
        "\n",
        "model = NeuralNet(input_size, hidden_size, num_classes).to(device)\n",
        "train_model(model,train_loader,validation_loader,test_loader)\n",
        "\n",
        "# Save the model checkpoint\n",
        "torch.save(model.state_dict(), 'model.ckpt')"
      ],
      "execution_count": null,
      "outputs": [
        {
          "output_type": "stream",
          "text": [
            "Epoch [1/5], Loss: 0.5143, Acc: 80.9143\n",
            "Epoch [2/5], Loss: 0.2500, Acc: 90.6929\n",
            "Epoch [3/5], Loss: 0.2247, Acc: 91.3429\n",
            "Epoch [4/5], Loss: 0.1895, Acc: 93.3357\n",
            "Epoch [5/5], Loss: 0.1756, Acc: 93.7071\n",
            "Accuracy (Training) : 90.00357525920629% ---> F1 score: 0.9412\n",
            "Accuracy (Validation) : 94.21221864951768% ---> F1 score: 1.0\n",
            "Accuracy (Testing) : 95.24421593830334% ---> F1 score: 0.9444\n"
          ],
          "name": "stdout"
        }
      ]
    },
    {
      "cell_type": "markdown",
      "metadata": {
        "id": "nMrri09t2G7Z"
      },
      "source": [
        "# ***`2.Few Layers`***\n"
      ]
    },
    {
      "cell_type": "code",
      "metadata": {
        "id": "Dl5sMhv4sKqr"
      },
      "source": [
        "from torch import nn\n",
        "import torch.nn.functional as F\n",
        "\n",
        "class NeuralNet_Few_Layers(nn.Module):\n",
        "    def __init__(self, input_size, hidden_size, num_classes):\n",
        "        super(NeuralNet_Few_Layers, self).__init__()\n",
        "        self.fc1 = nn.Linear(input_size, hidden_size) \n",
        "        self.fc2 = nn.Linear(hidden_size, hidden_size) \n",
        "        self.fc3 = nn.Linear(hidden_size, num_classes)  \n",
        "\n",
        "    def forward(self, x):\n",
        "        x = F.relu(self.fc1(x))\n",
        "        x = F.relu(self.fc2(x))\n",
        "        x = self.fc3(x)\n",
        "        return F.log_softmax(x, dim=1)"
      ],
      "execution_count": null,
      "outputs": []
    },
    {
      "cell_type": "code",
      "metadata": {
        "colab": {
          "base_uri": "https://localhost:8080/"
        },
        "id": "1spCgtJS2G7a",
        "outputId": "904154bb-ea78-47db-b18a-72ee1b1ef4cc"
      },
      "source": [
        "input_size = 256*256\n",
        "hidden_size = 256\n",
        "num_classes = 10\n",
        "\n",
        "model_Few_Layers = NeuralNet_Few_Layers(input_size, hidden_size, num_classes).to(device)\n",
        "train_model(model_Few_Layers,train_loader,validation_loader,test_loader)\n",
        "# Save the model checkpoint\n",
        "torch.save(model_Few_Layers.state_dict(), 'model_Few_Layers.ckpt')"
      ],
      "execution_count": null,
      "outputs": [
        {
          "output_type": "stream",
          "text": [
            "Epoch [1/5], Loss: 0.3822, Acc: 85.1857\n",
            "Epoch [2/5], Loss: 0.2291, Acc: 91.6714\n",
            "Epoch [3/5], Loss: 0.2182, Acc: 91.5286\n",
            "Epoch [4/5], Loss: 0.1835, Acc: 93.1071\n",
            "Epoch [5/5], Loss: 0.1681, Acc: 94.2071\n",
            "Accuracy (Training) : 91.1405076868073% ---> F1 score: 0.9412\n",
            "Accuracy (Validation) : 92.92604501607717% ---> F1 score: 1.0\n",
            "Accuracy (Testing) : 94.60154241645245% ---> F1 score: 1.0\n"
          ],
          "name": "stdout"
        }
      ]
    },
    {
      "cell_type": "markdown",
      "metadata": {
        "id": "A0TSUJjGsHoX"
      },
      "source": [
        "# ***CNN***\n"
      ]
    },
    {
      "cell_type": "markdown",
      "metadata": {
        "id": "iZj4FDIO8_z8"
      },
      "source": [
        "# ***`1.Many Layers`***"
      ]
    },
    {
      "cell_type": "code",
      "metadata": {
        "id": "wOqbiHnb8_z8"
      },
      "source": [
        "from torch import nn\n",
        "import torch.nn.functional as F\n",
        "\n",
        "class CNNNeuralNetManyLayers(nn.Module):\n",
        "      def __init__(self):\n",
        "        super(CNNNeuralNetManyLayers, self).__init__()\n",
        "        # convolutional layers\n",
        "        self.conv1 = nn.Conv2d(1, 8, 3)\n",
        "        self.conv2 = nn.Conv2d(8, 16, 4)\n",
        "        self.conv3 = nn.Conv2d(16, 256, 5)\n",
        "        # linear layers\n",
        "        self.fc1 = nn.Linear(29*29*256, 256) \n",
        "        self.fc2 = nn.Linear(256,120)\n",
        "        self.fc3 = nn.Linear(120, 64)\n",
        "        self.fc4 = nn.Linear(64, 10) \n",
        "\n",
        "      # x represents our data\n",
        "      def forward(self, x):\n",
        "        # convolutional layers with ReLU and pooling\n",
        "        x = F.max_pool2d(F.relu(self.conv1(x)),2) #256-3+1 = 254/2 = 127\n",
        "        x = F.max_pool2d(F.relu(self.conv2(x)),2) #127-4+1 = 124/2 = 62\n",
        "        x = F.max_pool2d(F.relu(self.conv3(x)),2) #62-5+1 = 58/2 = 29\n",
        "        # flattening the image\n",
        "        x = x.view(-1, 29*29*256) \n",
        "        # linear layers\n",
        "        x = F.relu(self.fc1(x))\n",
        "        x = F.relu(self.fc2(x))\n",
        "        x = F.relu(self.fc3(x))\n",
        "        x = self.fc4(x)\n",
        "        return F.log_softmax(x, dim=1)"
      ],
      "execution_count": null,
      "outputs": []
    },
    {
      "cell_type": "code",
      "metadata": {
        "colab": {
          "base_uri": "https://localhost:8080/"
        },
        "id": "lwJyk7LV8_z9",
        "outputId": "431dca38-15d9-4a8d-9e36-3ac54c99e7cd"
      },
      "source": [
        "model = CNNNeuralNetManyLayers()\n",
        "print(model)"
      ],
      "execution_count": null,
      "outputs": [
        {
          "output_type": "stream",
          "text": [
            "CNNNeuralNetManyLayers(\n",
            "  (conv1): Conv2d(1, 8, kernel_size=(3, 3), stride=(1, 1))\n",
            "  (conv2): Conv2d(8, 16, kernel_size=(4, 4), stride=(1, 1))\n",
            "  (conv3): Conv2d(16, 256, kernel_size=(5, 5), stride=(1, 1))\n",
            "  (fc1): Linear(in_features=215296, out_features=256, bias=True)\n",
            "  (fc2): Linear(in_features=256, out_features=120, bias=True)\n",
            "  (fc3): Linear(in_features=120, out_features=64, bias=True)\n",
            "  (fc4): Linear(in_features=64, out_features=10, bias=True)\n",
            ")\n"
          ],
          "name": "stdout"
        }
      ]
    },
    {
      "cell_type": "code",
      "metadata": {
        "id": "EQNg61Nf8_z-"
      },
      "source": [
        "import torch.optim as optim\n",
        "\n",
        "# loss function (cross entropy loss)\n",
        "criterion = nn.CrossEntropyLoss()\n",
        "# optimizer\n",
        "optimizer = optim.Adam(model.parameters(), lr=0.0001) \n",
        "schedular = torch.optim.lr_scheduler.ReduceLROnPlateau(optimizer, factor=0.3, patience=5, threshold=1e-4)"
      ],
      "execution_count": null,
      "outputs": []
    },
    {
      "cell_type": "code",
      "metadata": {
        "colab": {
          "base_uri": "https://localhost:8080/"
        },
        "id": "kfRvwjim8_z-",
        "outputId": "3af95e37-a419-460a-8fe5-d3774d903f97"
      },
      "source": [
        "from sklearn.metrics import f1_score\n",
        "from sklearn.metrics import accuracy_score\n",
        "\n",
        "# epochs to train for\n",
        "epochs = 5\n",
        "\n",
        "# tracks validation loss change after each epoch\n",
        "minimum_validation_loss = np.inf \n",
        "\n",
        "# tracking Training loss\n",
        "class_correct_train = list(0. for i in range(10))\n",
        "class_total_train = list(0. for i in range(10))\n",
        "\n",
        "for epoch in range(1, epochs+1):\n",
        "    \n",
        "    train_loss = 0\n",
        "    valid_loss = 0\n",
        "    test_loss = 0\n",
        "    \n",
        "    # training steps\n",
        "    model.train()\n",
        "    for batch_index, (data, target) in enumerate(train_loader):\n",
        "        # clears gradients\n",
        "        optimizer.zero_grad()\n",
        "        # forward pass\n",
        "        output = model(data)\n",
        "        # loss in batch\n",
        "        loss = criterion(output, target)\n",
        "        # update training loss\n",
        "        train_loss += loss.item()*data.size(0)\n",
        "        # backward pass for loss gradient\n",
        "        loss.backward()\n",
        "        # update paremeters\n",
        "        optimizer.step()\n",
        "\n",
        "        # convert output probabilities to predicted class\n",
        "        _, pred = torch.max(output, 1)    \n",
        "        # compare predictions to true label\n",
        "        correct_tensor = pred.eq(target.data.view_as(pred))\n",
        "        correct = np.squeeze(correct_tensor.numpy()) if not torch.cuda.is_available() else np.squeeze(correct_tensor.cpu().numpy())\n",
        "        f1score = f1_score(target, pred, average='micro')\n",
        "        #accuracyScore = accuracy_score(target, pred)\n",
        "\n",
        "        # calculate validation accuracy for each object class\n",
        "        for i in range(len(target.data)):\n",
        "            label = target.data[i]\n",
        "            class_correct_train[label] += correct[i].item()\n",
        "            class_total_train[label] += 1\n",
        "        \n",
        "    # validation steps\n",
        "    model.eval()\n",
        "    for batch_index, (data, target) in enumerate(validation_loader):\n",
        "        # forward pass\n",
        "        output = model(data)\n",
        "        # loss in batch\n",
        "        loss = criterion(output, target)\n",
        "        # update validation loss\n",
        "        valid_loss += loss.item()*data.size(0)\n",
        "\n",
        "    # Testing steps\n",
        "    for batch_index, (data, target) in enumerate(test_loader):\n",
        "        # forward pass\n",
        "        output = model(data)\n",
        "        # loss in batch\n",
        "        loss = criterion(output, target)\n",
        "        # update validation loss\n",
        "        test_loss += loss.item()*data.size(0)\n",
        "        \n",
        "    # average loss calculations\n",
        "    train_loss = train_loss/len(train_loader.sampler)\n",
        "    valid_loss = valid_loss/len(validation_loader.sampler)\n",
        "    test_loss = test_loss/len(test_loader.sampler)\n",
        "    \n",
        "    # Display loss statistics\n",
        "    print(f'Current Epoch: {epoch}  Training Loss: {round(train_loss, 6)}\\tValidation Loss: {round(valid_loss, 6)}\\tTesting Loss: {round(test_loss, 6)}')\n",
        "\n",
        "    # Saving model every time validation loss decreases\n",
        "    if valid_loss <= minimum_validation_loss:\n",
        "        print(f'Validation loss decreased from {round(minimum_validation_loss, 6)} to {round(valid_loss, 6)}')\n",
        "        torch.save(model.state_dict(), 'trained_model.pt')\n",
        "        minimum_validation_loss = valid_loss\n",
        "        print('Saving New Model')"
      ],
      "execution_count": null,
      "outputs": [
        {
          "output_type": "stream",
          "text": [
            "Current Epoch: 1  Training Loss: 0.570414\tValidation Loss: 0.248678\tTesting Loss: 0.237333\n",
            "Validation loss decreased from inf to 0.248678\n",
            "Saving New Model\n",
            "Current Epoch: 2  Training Loss: 0.224833\tValidation Loss: 0.188994\tTesting Loss: 0.221278\n",
            "Validation loss decreased from 0.248678 to 0.188994\n",
            "Saving New Model\n",
            "Current Epoch: 3  Training Loss: 0.19071\tValidation Loss: 0.182594\tTesting Loss: 0.145076\n",
            "Validation loss decreased from 0.188994 to 0.182594\n",
            "Saving New Model\n",
            "Current Epoch: 4  Training Loss: 0.156622\tValidation Loss: 0.135081\tTesting Loss: 0.146017\n",
            "Validation loss decreased from 0.182594 to 0.135081\n",
            "Saving New Model\n",
            "Current Epoch: 5  Training Loss: 0.138119\tValidation Loss: 0.161912\tTesting Loss: 0.181866\n"
          ],
          "name": "stdout"
        }
      ]
    },
    {
      "cell_type": "markdown",
      "metadata": {
        "id": "RCArf7u68_z-"
      },
      "source": [
        "Checking accuracy"
      ]
    },
    {
      "cell_type": "code",
      "metadata": {
        "colab": {
          "base_uri": "https://localhost:8080/",
          "height": 418
        },
        "id": "kGLunkDi8_z_",
        "outputId": "64e8954f-0cf4-4bf5-f542-8d9018f0f90c"
      },
      "source": [
        "from sklearn.metrics import f1_score\n",
        "from sklearn.metrics import accuracy_score\n",
        "\n",
        "# tracking validation loss\n",
        "valid_loss = 0.0\n",
        "class_correct = list(0. for i in range(10))\n",
        "class_total = list(0. for i in range(10))\n",
        "# tracking test loss\n",
        "test_loss = 0.0\n",
        "class_correct_2 = list(0. for i in range(10))\n",
        "class_total_2 = list(0. for i in range(10))\n",
        "\n",
        "model.eval()\n",
        "\n",
        "for batch_idx, (data, target) in enumerate(validation_loader):\n",
        "    # forward pass\n",
        "    output = model(data)\n",
        "    # batch loss\n",
        "    loss = criterion(output, target)\n",
        "    # validation loss update\n",
        "    valid_loss += loss.item()*data.size(0)\n",
        "    # convert output probabilities to predicted class\n",
        "    _, pred = torch.max(output, 1)    \n",
        "    # compare predictions to true label\n",
        "    correct_tensor = pred.eq(target.data.view_as(pred))\n",
        "    correct = np.squeeze(correct_tensor.numpy()) if not torch.cuda.is_available() else np.squeeze(correct_tensor.cpu().numpy())\n",
        "    f1score1 = f1_score(target, pred, average='micro')\n",
        "    #accuracyScore1 = accuracy_score(target, pred)\n",
        "\n",
        "    # calculate validation accuracy for each object class\n",
        "    for i in range(len(target.data)):\n",
        "        label = target.data[i]\n",
        "        class_correct[label] += correct[i].item()\n",
        "        class_total[label] += 1\n",
        "\n",
        "for batch_idx, (data, target) in enumerate(test_loader):\n",
        "    # forward pass\n",
        "    output = model(data)\n",
        "    # batch loss\n",
        "    loss = criterion(output, target)\n",
        "    # test loss update\n",
        "    test_loss += loss.item()*data.size(0)\n",
        "    # convert output probabilities to predicted class\n",
        "    _, pred = torch.max(output, 1)    \n",
        "    # compare predictions to true label\n",
        "    correct_tensor = pred.eq(target.data.view_as(pred))\n",
        "    correct = np.squeeze(correct_tensor.numpy()) if not torch.cuda.is_available() else np.squeeze(correct_tensor.cpu().numpy())\n",
        "    f1score2 = f1_score(target, pred, average='micro')\n",
        "    #accuracyScore2 = accuracy_score(target, pred)\n",
        "    \n",
        "    # calculate test accuracy for each object class\n",
        "    for i in range(len(target.data)):\n",
        "        label = target.data[i]\n",
        "        class_correct_2[label] += correct[i].item()\n",
        "        class_total_2[label] += 1\n",
        "\n",
        "# average validation & test loss\n",
        "valid_loss = valid_loss/len(validation_loader.dataset)\n",
        "test_loss = test_loss/len(test_loader.dataset)\n",
        "\n",
        "for i in range(3):\n",
        "    if class_total[i] > 0:\n",
        "        print(f'Training Accuracy of {Classes[i]}: {round(100*class_correct_train[i]/class_total_train[i], 2)}%')\n",
        "    else:\n",
        "        print(f'Training Accuracy of {Classes[i]}s: N/A (no training examples)')\n",
        "\n",
        "print(f'Full Training Accuracy: {round(100. * np.sum(class_correct_train) / np.sum(class_total_train), 2)}% {np.sum(class_correct_train)} out of {np.sum(class_total_train)} ---> F1 score: {round(f1score, 4)}')\n",
        "#print(f'Training Accuracy By accuracyScore: {round(accuracyScore, 4)}')\n",
        "\n",
        "print(f'\\nValidation Loss: {round(valid_loss, 4)}')\n",
        "for i in range(3):\n",
        "    if class_total[i] > 0:\n",
        "        print(f'Validation Accuracy of {Classes[i]}: {round(100*class_correct[i]/class_total[i], 2)}%')\n",
        "    else:\n",
        "        print(f'Validation Accuracy of {Classes[i]}s: N/A (no training examples)')\n",
        "\n",
        "print(f'Full Validation Accuracy: {round(100. * np.sum(class_correct) / np.sum(class_total), 2)}% {np.sum(class_correct)} out of {np.sum(class_total)} ---> F1 score: {round(f1score1, 4)}')\n",
        "print(f'Validation Accuracy By accuracyScore: {round(accuracyScore1, 4)}')\n",
        "\n",
        "print(f'\\nTest Loss: {round(test_loss, 4)}')\n",
        "for i in range(3):\n",
        "    if class_total_2[i] > 0:\n",
        "        print(f'Test Accuracy of {Classes[i]}: {round(100*class_correct_2[i]/class_total_2[i], 2)}%')\n",
        "    else:\n",
        "        print(f'Test Accuracy of {Classes[i]}s: N/A (no training examples)')\n",
        "        \n",
        "print(f'Full Test Accuracy: {round(100. * np.sum(class_correct_2) / np.sum(class_total_2), 2)}% {np.sum(class_correct_2)} out of {np.sum(class_total_2)} ---> F1 score: {round(f1score2, 4)}')\n",
        "print(f'Test Accuracy By accuracyScore: {round(accuracyScore2, 4)}')"
      ],
      "execution_count": null,
      "outputs": [
        {
          "output_type": "stream",
          "text": [
            "Training Accuracy of Normal: 89.37%\n",
            "Training Accuracy of Viral: 88.47%\n",
            "Training Accuracy of COVID: 92.24%\n",
            "Full Training Accuracy: 90.03% 12590.0 out of 13985.0 ---> F1 score: 0.9412\n",
            "\n",
            "Validation Loss: 0.0142\n",
            "Validation Accuracy of Normal: 99.05%\n",
            "Validation Accuracy of Viral: 82.47%\n",
            "Validation Accuracy of COVID: 95.41%\n",
            "Full Validation Accuracy: 92.6% 288.0 out of 311.0 ---> F1 score: 0.9091\n"
          ],
          "name": "stdout"
        },
        {
          "output_type": "error",
          "ename": "NameError",
          "evalue": "ignored",
          "traceback": [
            "\u001b[0;31m---------------------------------------------------------------------------\u001b[0m",
            "\u001b[0;31mNameError\u001b[0m                                 Traceback (most recent call last)",
            "\u001b[0;32m<ipython-input-16-b6697094edac>\u001b[0m in \u001b[0;36m<module>\u001b[0;34m()\u001b[0m\n\u001b[1;32m     76\u001b[0m \u001b[0;34m\u001b[0m\u001b[0m\n\u001b[1;32m     77\u001b[0m \u001b[0mprint\u001b[0m\u001b[0;34m(\u001b[0m\u001b[0;34mf'Full Validation Accuracy: {round(100. * np.sum(class_correct) / np.sum(class_total), 2)}% {np.sum(class_correct)} out of {np.sum(class_total)} ---> F1 score: {round(f1score1, 4)}'\u001b[0m\u001b[0;34m)\u001b[0m\u001b[0;34m\u001b[0m\u001b[0;34m\u001b[0m\u001b[0m\n\u001b[0;32m---> 78\u001b[0;31m \u001b[0mprint\u001b[0m\u001b[0;34m(\u001b[0m\u001b[0;34mf'Validation Accuracy By accuracyScore: {round(accuracyScore1, 4)}'\u001b[0m\u001b[0;34m)\u001b[0m\u001b[0;34m\u001b[0m\u001b[0;34m\u001b[0m\u001b[0m\n\u001b[0m\u001b[1;32m     79\u001b[0m \u001b[0;34m\u001b[0m\u001b[0m\n\u001b[1;32m     80\u001b[0m \u001b[0mprint\u001b[0m\u001b[0;34m(\u001b[0m\u001b[0;34mf'\\nTest Loss: {round(test_loss, 4)}'\u001b[0m\u001b[0;34m)\u001b[0m\u001b[0;34m\u001b[0m\u001b[0;34m\u001b[0m\u001b[0m\n",
            "\u001b[0;31mNameError\u001b[0m: name 'accuracyScore1' is not defined"
          ]
        }
      ]
    },
    {
      "cell_type": "markdown",
      "metadata": {
        "id": "6i5Gv-BO8pLA"
      },
      "source": [
        "# ***`2.Few Layers`***"
      ]
    },
    {
      "cell_type": "code",
      "metadata": {
        "id": "wTh5HguT56ws"
      },
      "source": [
        "from torch import nn\n",
        "import torch.nn.functional as F\n",
        "\n",
        "class CNNNeuralNet(nn.Module):\n",
        "      def __init__(self):\n",
        "        super(CNNNeuralNet, self).__init__()\n",
        "        # convolutional layers\n",
        "        self.conv1 = nn.Conv2d(1, 8, 5)\n",
        "        self.conv2 = nn.Conv2d(8, 16, 5)\n",
        "        # linear layers\n",
        "        self.fc1 = nn.Linear(61*61*16, 120)\n",
        "        self.fc2 = nn.Linear(120, 64)\n",
        "        self.fc3 = nn.Linear(64, 10) \n",
        "\n",
        "      # x represents our data\n",
        "      def forward(self, x):\n",
        "        # convolutional layers with ReLU and pooling\n",
        "        x = F.max_pool2d(F.relu(self.conv1(x)),2)\n",
        "        x = F.max_pool2d(F.relu(self.conv2(x)),2)\n",
        "        # flattening the image\n",
        "        x = x.view(-1, 61*61*16)\n",
        "        # linear layers\n",
        "        x = F.relu(self.fc1(x))\n",
        "        x = F.relu(self.fc2(x))\n",
        "        x = self.fc3(x)\n",
        "        return F.log_softmax(x, dim=1)"
      ],
      "execution_count": null,
      "outputs": []
    },
    {
      "cell_type": "code",
      "metadata": {
        "id": "jXy5jfOesOTe"
      },
      "source": [
        "model = CNNNeuralNet()\n",
        "print(model)"
      ],
      "execution_count": null,
      "outputs": []
    },
    {
      "cell_type": "code",
      "metadata": {
        "id": "lkbKxU-vu5_B"
      },
      "source": [
        "import torch.optim as optim\n",
        "\n",
        "# loss function (cross entropy loss)\n",
        "criterion = nn.CrossEntropyLoss()\n",
        "# optimizer\n",
        "optimizer = optim.Adam(model.parameters(), lr=0.0001) \n",
        "schedular = torch.optim.lr_scheduler.ReduceLROnPlateau(optimizer, factor=0.3, patience=5, threshold=1e-4)"
      ],
      "execution_count": null,
      "outputs": []
    },
    {
      "cell_type": "code",
      "metadata": {
        "id": "dHVyMDtHLNCS"
      },
      "source": [
        "from sklearn.metrics import f1_score\n",
        "\n",
        "# epochs to train for\n",
        "epochs = 5\n",
        "\n",
        "# tracks validation loss change after each epoch\n",
        "minimum_validation_loss = np.inf \n",
        "\n",
        "# tracking Training loss\n",
        "class_correct_train = list(0. for i in range(10))\n",
        "class_total_train = list(0. for i in range(10))\n",
        "\n",
        "for epoch in range(1, epochs+1):\n",
        "    \n",
        "    train_loss = 0\n",
        "    valid_loss = 0\n",
        "    test_loss = 0\n",
        "    \n",
        "    # training steps\n",
        "    model.train()\n",
        "    for batch_index, (data, target) in enumerate(train_loader):\n",
        "        # clears gradients\n",
        "        optimizer.zero_grad()\n",
        "        # forward pass\n",
        "        output = model(data)\n",
        "        # loss in batch\n",
        "        loss = criterion(output, target)\n",
        "        # update training loss\n",
        "        train_loss += loss.item()*data.size(0)\n",
        "        # backward pass for loss gradient\n",
        "        loss.backward()\n",
        "        # update paremeters\n",
        "        optimizer.step()\n",
        "\n",
        "        # convert output probabilities to predicted class\n",
        "        _, pred = torch.max(output, 1)    \n",
        "        # compare predictions to true label\n",
        "        correct_tensor = pred.eq(target.data.view_as(pred))\n",
        "        correct = np.squeeze(correct_tensor.numpy()) if not torch.cuda.is_available() else np.squeeze(correct_tensor.cpu().numpy())\n",
        "        f1score = f1_score(target, pred, average='micro')\n",
        "        # calculate validation accuracy for each object class\n",
        "        for i in range(len(target.data)):\n",
        "            label = target.data[i]\n",
        "            class_correct_train[label] += correct[i].item()\n",
        "            class_total_train[label] += 1\n",
        "        \n",
        "    # validation steps\n",
        "    model.eval()\n",
        "    for batch_index, (data, target) in enumerate(validation_loader):\n",
        "        # forward pass\n",
        "        output = model(data)\n",
        "        # loss in batch\n",
        "        loss = criterion(output, target)\n",
        "        # update validation loss\n",
        "        valid_loss += loss.item()*data.size(0)\n",
        "\n",
        "    # Testing steps\n",
        "    for batch_index, (data, target) in enumerate(test_loader):\n",
        "        # forward pass\n",
        "        output = model(data)\n",
        "        # loss in batch\n",
        "        loss = criterion(output, target)\n",
        "        # update validation loss\n",
        "        test_loss += loss.item()*data.size(0)\n",
        "        \n",
        "    # average loss calculations\n",
        "    train_loss = train_loss/len(train_loader.sampler)\n",
        "    valid_loss = valid_loss/len(validation_loader.sampler)\n",
        "    test_loss = test_loss/len(test_loader.sampler)\n",
        "    \n",
        "    # Display loss statistics\n",
        "    print(f'Current Epoch: {epoch}  Training Loss: {round(train_loss, 6)}\\tValidation Loss: {round(valid_loss, 6)}\\tTesting Loss: {round(test_loss, 6)}')\n",
        "\n",
        "    # Saving model every time validation loss decreases\n",
        "    if valid_loss <= minimum_validation_loss:\n",
        "        print(f'Validation loss decreased from {round(minimum_validation_loss, 6)} to {round(valid_loss, 6)}')\n",
        "        torch.save(model.state_dict(), 'trained_model.pt')\n",
        "        minimum_validation_loss = valid_loss\n",
        "        print('Saving New Model')"
      ],
      "execution_count": null,
      "outputs": []
    },
    {
      "cell_type": "markdown",
      "metadata": {
        "id": "iR3PTN5tQiM-"
      },
      "source": [
        "Checking accuracy"
      ]
    },
    {
      "cell_type": "code",
      "metadata": {
        "id": "xlmgAJXIQkMp"
      },
      "source": [
        "from sklearn.metrics import f1_score\n",
        "\n",
        "# tracking validation loss\n",
        "valid_loss = 0.0\n",
        "class_correct = list(0. for i in range(10))\n",
        "class_total = list(0. for i in range(10))\n",
        "# tracking test loss\n",
        "test_loss = 0.0\n",
        "class_correct_2 = list(0. for i in range(10))\n",
        "class_total_2 = list(0. for i in range(10))\n",
        "\n",
        "model.eval()\n",
        "\n",
        "for batch_idx, (data, target) in enumerate(validation_loader):\n",
        "    # forward pass\n",
        "    output = model(data)\n",
        "    # batch loss\n",
        "    loss = criterion(output, target)\n",
        "    # validation loss update\n",
        "    valid_loss += loss.item()*data.size(0)\n",
        "    # convert output probabilities to predicted class\n",
        "    _, pred = torch.max(output, 1)    \n",
        "    # compare predictions to true label\n",
        "    correct_tensor = pred.eq(target.data.view_as(pred))\n",
        "    correct = np.squeeze(correct_tensor.numpy()) if not torch.cuda.is_available() else np.squeeze(correct_tensor.cpu().numpy())\n",
        "    f1score1 = f1_score(target, pred, average='micro')\n",
        "    # calculate validation accuracy for each object class\n",
        "    for i in range(len(target.data)):\n",
        "        label = target.data[i]\n",
        "        class_correct[label] += correct[i].item()\n",
        "        class_total[label] += 1\n",
        "\n",
        "for batch_idx, (data, target) in enumerate(test_loader):\n",
        "    # forward pass\n",
        "    output = model(data)\n",
        "    # batch loss\n",
        "    loss = criterion(output, target)\n",
        "    # test loss update\n",
        "    test_loss += loss.item()*data.size(0)\n",
        "    # convert output probabilities to predicted class\n",
        "    _, pred = torch.max(output, 1)    \n",
        "    # compare predictions to true label\n",
        "    correct_tensor = pred.eq(target.data.view_as(pred))\n",
        "    correct = np.squeeze(correct_tensor.numpy()) if not torch.cuda.is_available() else np.squeeze(correct_tensor.cpu().numpy())\n",
        "    f1score2 = f1_score(target, pred, average='micro')\n",
        "    # calculate test accuracy for each object class\n",
        "    for i in range(len(target.data)):\n",
        "        label = target.data[i]\n",
        "        class_correct_2[label] += correct[i].item()\n",
        "        class_total_2[label] += 1\n",
        "\n",
        "# average validation & test loss\n",
        "valid_loss = valid_loss/len(validation_loader.dataset)\n",
        "test_loss = test_loss/len(test_loader.dataset)\n",
        "\n",
        "for i in range(3):\n",
        "    if class_total[i] > 0:\n",
        "        print(f'Training Accuracy of {Classes[i]}: {round(100*class_correct_train[i]/class_total_train[i], 2)}%')\n",
        "    else:\n",
        "        print(f'Training Accuracy of {Classes[i]}s: N/A (no training examples)')\n",
        "\n",
        "print(f'Full Training Accuracy: {round(100. * np.sum(class_correct_train) / np.sum(class_total_train), 2)}% {np.sum(class_correct_train)} out of {np.sum(class_total_train)} ---> F1 score: {round(f1score, 4)}')\n",
        "\n",
        "print(f'\\nValidation Loss: {round(valid_loss, 4)}')\n",
        "for i in range(3):\n",
        "    if class_total[i] > 0:\n",
        "        print(f'Validation Accuracy of {Classes[i]}: {round(100*class_correct[i]/class_total[i], 2)}%')\n",
        "    else:\n",
        "        print(f'Validation Accuracy of {Classes[i]}s: N/A (no training examples)')\n",
        "\n",
        "print(f'Full Validation Accuracy: {round(100. * np.sum(class_correct) / np.sum(class_total), 2)}% {np.sum(class_correct)} out of {np.sum(class_total)} ---> F1 score: {round(f1score1, 4)}')\n",
        "\n",
        "print(f'\\nTest Loss: {round(test_loss, 4)}')\n",
        "for i in range(3):\n",
        "    if class_total_2[i] > 0:\n",
        "        print(f'Test Accuracy of {Classes[i]}: {round(100*class_correct_2[i]/class_total_2[i], 2)}%')\n",
        "    else:\n",
        "        print(f'Test Accuracy of {Classes[i]}s: N/A (no training examples)')\n",
        "        \n",
        "print(f'Full Test Accuracy: {round(100. * np.sum(class_correct_2) / np.sum(class_total_2), 2)}% {np.sum(class_correct_2)} out of {np.sum(class_total_2)} ---> F1 score: {round(f1score2, 4)}')"
      ],
      "execution_count": null,
      "outputs": []
    },
    {
      "cell_type": "markdown",
      "metadata": {
        "id": "19Wk6TIbfT9S"
      },
      "source": [
        "# RES-NET"
      ]
    },
    {
      "cell_type": "markdown",
      "metadata": {
        "id": "Br7nip-ohN0H"
      },
      "source": [
        "Importing Resnet and dataset"
      ]
    },
    {
      "cell_type": "code",
      "metadata": {
        "colab": {
          "base_uri": "https://localhost:8080/",
          "height": 104,
          "referenced_widgets": [
            "ab092e5e32674eeaafc1f44bb08128aa",
            "0b27574cc0f24d0387f26fa97981f6a1",
            "9cc3b4f01bc84ea0978327e4f380b740",
            "fe183de49589449eb51317f3c828f783",
            "ad1cc4ccdc8b4cc69f4b26cc96a77d40",
            "6731d9968bd344a998086a8f220bd03a",
            "34b6b08a636249638ef5dd09483cb535",
            "01b20163082b446b814b39459fbdab94"
          ]
        },
        "id": "B-Idko_EgkBJ",
        "outputId": "98dd4f1a-57ab-478e-f87e-92321cf53f37"
      },
      "source": [
        "import torch\n",
        "model = torch.hub.load('pytorch/vision:v0.6.0', 'resnet18', pretrained=True)\n",
        "\n",
        "from __future__ import print_function, division\n",
        "import numpy as np\n",
        "import pandas as pd\n",
        "import torch\n",
        "import torch.nn as nn\n",
        "import torch.optim as optim\n",
        "from torch.optim import lr_scheduler\n",
        "from torch.autograd import Variable\n",
        "from torch.utils.data import Dataset, DataLoader\n",
        "from torchvision import transforms, utils, models\n",
        "\n",
        "from PIL import Image\n",
        "import matplotlib.pyplot as plt\n",
        "import time\n",
        "import os\n",
        "\n",
        "ResnetTransform = transforms.Compose([\n",
        "    transforms.Resize(256),\n",
        "    transforms.CenterCrop(224),\n",
        "    transforms.ToTensor(),\n",
        "    transforms.Normalize(mean=[0.485, 0.456, 0.406], std=[0.229, 0.224, 0.225]),\n",
        "])\n",
        "\n",
        "ResnetDataset = CoronaDataset(Files_Directory, ResnetTransform)"
      ],
      "execution_count": null,
      "outputs": [
        {
          "output_type": "stream",
          "text": [
            "Downloading: \"https://github.com/pytorch/vision/archive/v0.6.0.zip\" to /root/.cache/torch/hub/v0.6.0.zip\n",
            "Downloading: \"https://download.pytorch.org/models/resnet18-5c106cde.pth\" to /root/.cache/torch/hub/checkpoints/resnet18-5c106cde.pth\n"
          ],
          "name": "stderr"
        },
        {
          "output_type": "display_data",
          "data": {
            "application/vnd.jupyter.widget-view+json": {
              "model_id": "ab092e5e32674eeaafc1f44bb08128aa",
              "version_minor": 0,
              "version_major": 2
            },
            "text/plain": [
              "HBox(children=(FloatProgress(value=0.0, max=46827520.0), HTML(value='')))"
            ]
          },
          "metadata": {
            "tags": []
          }
        },
        {
          "output_type": "stream",
          "text": [
            "\n"
          ],
          "name": "stdout"
        }
      ]
    },
    {
      "cell_type": "markdown",
      "metadata": {
        "id": "_ZvMxgBRhQo2"
      },
      "source": [
        "Splitting data again"
      ]
    },
    {
      "cell_type": "code",
      "metadata": {
        "id": "K_GEQ5LihTX5",
        "colab": {
          "base_uri": "https://localhost:8080/"
        },
        "outputId": "c1d28388-d779-4ce9-9a2b-0f9790157170"
      },
      "source": [
        "n = len(ResnetDataset)  # how many total elements you have\n",
        "n_test = int( n * .05 )  # number of test/val elements\n",
        "n_train = n - 2 * n_test\n",
        "train_set, validation_set, testing_set = torch.utils.data.random_split(ResnetDataset, (n_train, n_test, n_test))\n",
        "\n",
        "train_loader = torch.utils.data.DataLoader(train_set, batch_size=batch_size)\n",
        "validation_loader = torch.utils.data.DataLoader(validation_set, batch_size=batch_size)\n",
        "test_loader = torch.utils.data.DataLoader(testing_set, batch_size=batch_size)\n",
        "\n",
        "\n",
        "print('LOADING DONE!')\n",
        "print('Training len: ' + str(len(train_loader)))\n",
        "print('Validation len: ' + str(len(validation_loader)))"
      ],
      "execution_count": null,
      "outputs": [
        {
          "output_type": "stream",
          "text": [
            "LOADING DONE!\n",
            "Training len: 175\n",
            "Validation len: 10\n"
          ],
          "name": "stdout"
        }
      ]
    },
    {
      "cell_type": "markdown",
      "metadata": {
        "id": "jWfMX59Nh2wU"
      },
      "source": [
        "Configuring GPU"
      ]
    },
    {
      "cell_type": "code",
      "metadata": {
        "id": "RIjwEC5vh1y4",
        "colab": {
          "base_uri": "https://localhost:8080/"
        },
        "outputId": "3e067e64-742f-45d1-aa0b-0e01667d0dcf"
      },
      "source": [
        "if torch.cuda.is_available():\n",
        "    use_gpu = True\n",
        "    print(\"Using GPU\")\n",
        "else:\n",
        "    use_gpu = False\n",
        "FloatTensor = torch.cuda.FloatTensor if use_gpu else torch.FloatTensor\n",
        "LongTensor = torch.cuda.LongTensor if use_gpu else torch.LongTensor\n",
        "ByteTensor = torch.cuda.ByteTensor if use_gpu else torch.ByteTensor\n",
        "Tensor = FloatTensor"
      ],
      "execution_count": null,
      "outputs": [
        {
          "output_type": "stream",
          "text": [
            "Using GPU\n"
          ],
          "name": "stdout"
        }
      ]
    },
    {
      "cell_type": "markdown",
      "metadata": {
        "id": "jSqctqhLicb3"
      },
      "source": [
        "Defining the model"
      ]
    },
    {
      "cell_type": "code",
      "metadata": {
        "id": "vW3Igc9fidjZ",
        "colab": {
          "base_uri": "https://localhost:8080/"
        },
        "outputId": "da42bc2e-8f36-4f8c-8bed-9d5cc15c881a"
      },
      "source": [
        "dataloaders = {\"train\": train_loader, \"val\": validation_loader}\n",
        "datasets = {'train': train_set, 'val': validation_set }\n",
        "print('Training dataset: ' + str(len(datasets['train'])))\n",
        "print('Validation dataset: ' + str(len(datasets['val'])))\n",
        "\n",
        "\n",
        "def train_model(model, criterion, optimizer, scheduler, num_epochs=25):\n",
        "    since = time.time()\n",
        "\n",
        "    best_model_wts = model.state_dict()\n",
        "    best_acc = 0.0\n",
        "\n",
        "    for epoch in range(num_epochs):\n",
        "        print('Epoch {}/{}'.format(epoch, num_epochs - 1))\n",
        "        print('-' * 10)\n",
        "        # Each epoch has a training and validation phase\n",
        "        for phase in ['train', 'val']:     \n",
        "            since_epoch = time.time()\n",
        "            if phase == 'train':\n",
        "                scheduler.step()\n",
        "                model.train(True)  # Set model to training mode\n",
        "            else:\n",
        "                model.train(False)  # Set model to evaluate mode\n",
        "    \n",
        "            running_loss = 0.0\n",
        "            running_corrects = 0\n",
        "\n",
        "            # Iterate over data.\n",
        "            for data in dataloaders[phase]:\n",
        "                # get the inputs\n",
        "                inputs, labels = data\n",
        "                inputs = Variable(inputs.type(Tensor))\n",
        "                labels = Variable(labels.type(LongTensor))\n",
        "\n",
        "                # zero the parameter gradients\n",
        "                optimizer.zero_grad()\n",
        "\n",
        "                # forward\n",
        "                outputs = model(inputs)\n",
        "                _, preds = torch.max(outputs.data, 1)\n",
        "                loss = criterion(outputs, labels)\n",
        "\n",
        "                # backward + optimize only if in training phase\n",
        "                if phase == 'train':\n",
        "                    loss.backward()\n",
        "                    optimizer.step()\n",
        "                    \n",
        "                # statistics\n",
        "                running_loss += loss.data\n",
        "                running_corrects += torch.sum(preds == labels.data)\n",
        "\n",
        "            epoch_loss = running_loss / len(datasets[phase])\n",
        "            epoch_acc = running_corrects / len(datasets[phase])\n",
        "\n",
        "            time_elapsed_epoch = time.time() - since_epoch\n",
        "            print('{} Loss: {:.4f} Acc: {:.4f} in {:.0f}m {:.0f}s'.format(\n",
        "                phase, epoch_loss, epoch_acc, time_elapsed_epoch // 60, time_elapsed_epoch % 60))\n",
        "            \n",
        "            # deep copy the model\n",
        "            if phase == 'val' and epoch_acc > best_acc:\n",
        "                best_acc = epoch_acc\n",
        "                best_model_wts = model.state_dict()\n",
        "        print()\n",
        "\n",
        "    time_elapsed = time.time() - since\n",
        "    print('Training complete in {:.0f}m {:.0f}s'.format(\n",
        "        time_elapsed // 60, time_elapsed % 60))\n",
        "    print('Best val Acc: {:4f}'.format(best_acc))\n",
        "\n",
        "    # load best model weights\n",
        "    model.load_state_dict(best_model_wts)\n",
        "    return model"
      ],
      "execution_count": null,
      "outputs": [
        {
          "output_type": "stream",
          "text": [
            "Training dataset: 3498\n",
            "Validation dataset: 194\n"
          ],
          "name": "stdout"
        }
      ]
    },
    {
      "cell_type": "markdown",
      "metadata": {
        "id": "WQLvQ6SeiqCJ"
      },
      "source": [
        "Loading the model"
      ]
    },
    {
      "cell_type": "code",
      "metadata": {
        "id": "lmMgLzWLir1u"
      },
      "source": [
        "def trainmodel(_pretrained, no_of_epochs):\n",
        "    model_ft = models.resnet18(pretrained=_pretrained)\n",
        "    num_ftrs = model_ft.fc.in_features\n",
        "    model_ft.fc = nn.Linear(num_ftrs, 120)\n",
        "    \n",
        "    if use_gpu:\n",
        "        model_ft = model_ft.cuda()\n",
        "        print('Using GPU on model')\n",
        "    criterion = nn.CrossEntropyLoss()\n",
        "\n",
        "    # Observe that all parameters are being optimized\n",
        "    optimizer_ft = optim.SGD(model_ft.parameters(), lr=0.001, momentum=0.9)\n",
        "\n",
        "    # Decay LR by a factor of 0.1 every 7 epochs\n",
        "    exp_lr_scheduler = lr_scheduler.StepLR(optimizer_ft, step_size=7, gamma=0.1)\n",
        "    model_ft = train_model(model_ft, criterion, optimizer_ft, exp_lr_scheduler,\n",
        "                              num_epochs=no_of_epochs)"
      ],
      "execution_count": null,
      "outputs": []
    },
    {
      "cell_type": "markdown",
      "metadata": {
        "id": "fGUOaKaVjHPH"
      },
      "source": [
        "Training (Not Pretrained)"
      ]
    },
    {
      "cell_type": "code",
      "metadata": {
        "id": "pXX_WjKMjHz7",
        "colab": {
          "base_uri": "https://localhost:8080/"
        },
        "outputId": "9a9b9828-8742-479d-9ba8-7a096771264e"
      },
      "source": [
        "trainmodel(False, 3)"
      ],
      "execution_count": null,
      "outputs": [
        {
          "output_type": "stream",
          "text": [
            "Using GPU on model\n",
            "Epoch 0/2\n",
            "----------\n"
          ],
          "name": "stdout"
        },
        {
          "output_type": "stream",
          "text": [
            "/usr/local/lib/python3.6/dist-packages/torch/optim/lr_scheduler.py:136: UserWarning: Detected call of `lr_scheduler.step()` before `optimizer.step()`. In PyTorch 1.1.0 and later, you should call them in the opposite order: `optimizer.step()` before `lr_scheduler.step()`.  Failure to do this will result in PyTorch skipping the first value of the learning rate schedule. See more details at https://pytorch.org/docs/stable/optim.html#how-to-adjust-learning-rate\n",
            "  \"https://pytorch.org/docs/stable/optim.html#how-to-adjust-learning-rate\", UserWarning)\n"
          ],
          "name": "stderr"
        },
        {
          "output_type": "stream",
          "text": [
            "train Loss: 0.0357 Acc: 0.7633 in 12m 43s\n",
            "val Loss: 0.0144 Acc: 0.9072 in 0m 31s\n",
            "\n",
            "Epoch 1/2\n",
            "----------\n",
            "train Loss: 0.0133 Acc: 0.9111 in 4m 37s\n",
            "val Loss: 0.0182 Acc: 0.8505 in 0m 15s\n",
            "\n",
            "Epoch 2/2\n",
            "----------\n",
            "train Loss: 0.0117 Acc: 0.9168 in 2m 15s\n",
            "val Loss: 0.0205 Acc: 0.8299 in 0m 5s\n",
            "\n",
            "Training complete in 20m 25s\n",
            "Best val Acc: 0.907216\n"
          ],
          "name": "stdout"
        }
      ]
    },
    {
      "cell_type": "markdown",
      "metadata": {
        "id": "PqOQaN7yntS3"
      },
      "source": [
        "Training (Pre-trained)"
      ]
    },
    {
      "cell_type": "code",
      "metadata": {
        "id": "DpK62h7Knuuv",
        "colab": {
          "base_uri": "https://localhost:8080/"
        },
        "outputId": "81f63f88-b245-4a10-9980-9ffa651a7dbe"
      },
      "source": [
        "trainmodel(True, 3)"
      ],
      "execution_count": null,
      "outputs": [
        {
          "output_type": "stream",
          "text": [
            "Using GPU on model\n",
            "Epoch 0/2\n",
            "----------\n"
          ],
          "name": "stdout"
        },
        {
          "output_type": "stream",
          "text": [
            "/usr/local/lib/python3.6/dist-packages/torch/optim/lr_scheduler.py:136: UserWarning: Detected call of `lr_scheduler.step()` before `optimizer.step()`. In PyTorch 1.1.0 and later, you should call them in the opposite order: `optimizer.step()` before `lr_scheduler.step()`.  Failure to do this will result in PyTorch skipping the first value of the learning rate schedule. See more details at https://pytorch.org/docs/stable/optim.html#how-to-adjust-learning-rate\n",
            "  \"https://pytorch.org/docs/stable/optim.html#how-to-adjust-learning-rate\", UserWarning)\n"
          ],
          "name": "stderr"
        },
        {
          "output_type": "stream",
          "text": [
            "train Loss: 0.0166 Acc: 0.9165 in 1m 21s\n",
            "val Loss: 0.0062 Acc: 0.9588 in 0m 4s\n",
            "\n",
            "Epoch 1/2\n",
            "----------\n",
            "train Loss: 0.0042 Acc: 0.9706 in 1m 9s\n",
            "val Loss: 0.0037 Acc: 0.9742 in 0m 4s\n",
            "\n",
            "Epoch 2/2\n",
            "----------\n",
            "train Loss: 0.0030 Acc: 0.9791 in 1m 2s\n",
            "val Loss: 0.0023 Acc: 0.9794 in 0m 4s\n",
            "\n",
            "Training complete in 3m 44s\n",
            "Best val Acc: 0.979381\n"
          ],
          "name": "stdout"
        }
      ]
    }
  ]
}